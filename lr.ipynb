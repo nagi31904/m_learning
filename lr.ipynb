{
 "cells": [
  {
   "cell_type": "code",
   "execution_count": 1,
   "metadata": {
    "collapsed": false
   },
   "outputs": [
    {
     "name": "stderr",
     "output_type": "stream",
     "text": [
      "//anaconda/lib/python3.6/site-packages/ipykernel/__main__.py:23: FutureWarning: reshape is deprecated and will raise in a subsequent release. Please use .values.reshape(...) instead\n",
      "//anaconda/lib/python3.6/site-packages/ipykernel/__main__.py:24: FutureWarning: reshape is deprecated and will raise in a subsequent release. Please use .values.reshape(...) instead\n"
     ]
    },
    {
     "data": {
      "image/png": "[encoded data removed]",
      "text/plain": [
       "<matplotlib.figure.Figure at 0x113b1dd30>"
      ]
     },
     "metadata": {},
     "output_type": "display_data"
    },
    {
     "name": "stdout",
     "output_type": "stream",
     "text": [
      "R^2 0.94404990849\n",
      "RMSE: \n",
      " 0.196957009134\n"
     ]
    }
   ],
   "source": [
    "#!/usr/bin/env python3\n",
    "# -*- coding: utf-8 -*-\n",
    "\"\"\"\n",
    "Created on Sun Jul  2 11:35:42 2017\n",
    "\n",
    "@author: jerry\n",
    "\"\"\"\n",
    "from sklearn import datasets\n",
    "import pandas as pd\n",
    "import numpy as np\n",
    "from sklearn import linear_model\n",
    "import matplotlib.pyplot as plt\n",
    "\n",
    "iris = datasets.load_iris()\n",
    "\n",
    "df_data = pd.DataFrame(iris['data'], columns=iris.feature_names)\n",
    "df_target = pd.DataFrame(iris['target'], columns=['Target'])\n",
    "df = pd.concat([df_data,df_target],axis=1)\n",
    "\n",
    "\n",
    "reg = linear_model.LinearRegression()\n",
    "\n",
    "iris_pl_re = df['petal length (cm)'].reshape(-1, 1)\n",
    "iris_pw_re = df['petal width (cm)'].reshape(-1, 1)\n",
    "\n",
    "reg.fit(iris_pl_re, iris_pw_re)\n",
    "reg.score(iris_pl_re, iris_pw_re)\n",
    "\n",
    "prediction_space = np.linspace(min(iris_pl_re),\n",
    "                               max(iris_pl_re)).reshape(-1, 1)\n",
    "\n",
    "plt.scatter(iris_pl_re, iris_pw_re, color = 'blue')\n",
    "plt.plot(prediction_space, reg.predict(prediction_space),\n",
    "         color='black', linewidth=2)\n",
    "\n",
    "plt.show()\n",
    "\n",
    "\n",
    "\n",
    "################All Features\n",
    "from sklearn import datasets\n",
    "import pandas as pd\n",
    "import numpy as np\n",
    "from sklearn import linear_model\n",
    "from sklearn.model_selection import train_test_split\n",
    "from sklearn.metrics import mean_squared_error\n",
    "\n",
    "iris = datasets.load_iris()\n",
    "\n",
    "df_data = pd.DataFrame(iris['data'], columns=iris.feature_names)\n",
    "df_target = pd.DataFrame(iris['target'], columns=['Target'])\n",
    "df = pd.concat([df_data,df_target],axis=1)\n",
    "\n",
    "X_train, X_test, y_train, y_test = train_test_split(df_data, df_target,\n",
    "                                                    test_size = 0.3,\n",
    "                                                    random_state=42)\n",
    "\n",
    "reg_all = linear_model.LinearRegression()\n",
    "reg_all.fit(X_train, y_train)\n",
    "\n",
    "\n",
    "y_pred = reg_all.predict(X_test)\n",
    "rmse = np.sqrt(mean_squared_error(y_test, y_pred))\n",
    "\n",
    "print('R^2', reg_all.score(X_test, y_test))\n",
    "print('RMSE: \\n', rmse)\n",
    "\n"
   ]
  },
  {
   "cell_type": "code",
   "execution_count": 12,
   "metadata": {
    "collapsed": false
   },
   "outputs": [
    {
     "data": {
      "text/plain": [
       "0.01"
      ]
     },
     "execution_count": 12,
     "metadata": {},
     "output_type": "execute_result"
    }
   ],
   "source": [
    "50/100\n",
    "1/100\n"
   ]
  },
  {
   "cell_type": "code",
   "execution_count": 11,
   "metadata": {
    "collapsed": false
   },
   "outputs": [
    {
     "data": {
      "text/plain": [
       "1.0"
      ]
     },
     "execution_count": 11,
     "metadata": {},
     "output_type": "execute_result"
    }
   ],
   "source": [
    "-0.5*np.log2(0.5)-0.5*np.log2(0.5)"
   ]
  },
  {
   "cell_type": "code",
   "execution_count": 10,
   "metadata": {
    "collapsed": false
   },
   "outputs": [
    {
     "data": {
      "text/plain": [
       "0.34654738348690017"
      ]
     },
     "execution_count": 10,
     "metadata": {},
     "output_type": "execute_result"
    }
   ],
   "source": [
    "-00.1*np.log2(0.1)-0.99*np.log2(0.99)"
   ]
  },
  {
   "cell_type": "code",
   "execution_count": null,
   "metadata": {
    "collapsed": true
   },
   "outputs": [],
   "source": []
  }
 ],
 "metadata": {
  "kernelspec": {
   "display_name": "Python 3",
   "language": "python",
   "name": "python3"
  },
  "language_info": {
   "codemirror_mode": {
    "name": "ipython",
    "version": 3
   },
   "file_extension": ".py",
   "mimetype": "text/x-python",
   "name": "python",
   "nbconvert_exporter": "python",
   "pygments_lexer": "ipython3",
   "version": "3.6.0"
  }
 },
 "nbformat": 4,
 "nbformat_minor": 2
}
