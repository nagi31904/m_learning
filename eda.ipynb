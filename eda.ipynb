{
 "cells": [
  {
   "cell_type": "code",
   "execution_count": 3,
   "metadata": {
    "collapsed": false
   },
   "outputs": [
    {
     "data": {
      "text/plain": [
       "array([[<matplotlib.axes._subplots.AxesSubplot object at 0x1173e4828>,\n",
       "        <matplotlib.axes._subplots.AxesSubplot object at 0x11744fdd8>,\n",
       "        <matplotlib.axes._subplots.AxesSubplot object at 0x1174a5240>,\n",
       "        <matplotlib.axes._subplots.AxesSubplot object at 0x117509908>],\n",
       "       [<matplotlib.axes._subplots.AxesSubplot object at 0x117564240>,\n",
       "        <matplotlib.axes._subplots.AxesSubplot object at 0x117564278>,\n",
       "        <matplotlib.axes._subplots.AxesSubplot object at 0x1175e6748>,\n",
       "        <matplotlib.axes._subplots.AxesSubplot object at 0x117649978>],\n",
       "       [<matplotlib.axes._subplots.AxesSubplot object at 0x1176b6390>,\n",
       "        <matplotlib.axes._subplots.AxesSubplot object at 0x117706d30>,\n",
       "        <matplotlib.axes._subplots.AxesSubplot object at 0x117775080>,\n",
       "        <matplotlib.axes._subplots.AxesSubplot object at 0x1177d2320>],\n",
       "       [<matplotlib.axes._subplots.AxesSubplot object at 0x117837710>,\n",
       "        <matplotlib.axes._subplots.AxesSubplot object at 0x117892ac8>,\n",
       "        <matplotlib.axes._subplots.AxesSubplot object at 0x1178f7fd0>,\n",
       "        <matplotlib.axes._subplots.AxesSubplot object at 0x117959390>]], dtype=object)"
      ]
     },
     "execution_count": 3,
     "metadata": {},
     "output_type": "execute_result"
    }
   ],
   "source": [
    "#!/usr/bin/env python3\n",
    "# -*- coding: utf-8 -*-\n",
    "\"\"\"\n",
    "Created on Fri Jun 30 08:36:08 2017\n",
    "\n",
    "@author: jerry\n",
    "\"\"\"\n",
    "from sklearn import datasets\n",
    "import pandas as pd\n",
    "import matplotlib.pyplot as plt\n",
    "plt.style.use('ggplot')\n",
    "iris = datasets.load_iris()\n",
    "\n",
    "x = iris.data\n",
    "y = iris.target\n",
    "df = pd.DataFrame(x, columns=iris.feature_names)\n",
    "\n",
    "# print(df)\n",
    "#看欄位與屬性\n",
    "# df.info()\n",
    "\n",
    "### Viewing Data(pd基本指令集)\n",
    "#df.dtypes\n",
    "#df.describe()\n",
    "#df.info()（矩陣訊息）\n",
    "#df.head(2)（取頭）\n",
    "#df.tail(1)（取尾）\n",
    "#df.T（矩陣轉換）\n",
    "\n",
    "\n",
    "##\n",
    "#Renaming columns in pandas(pd基本指令集2)\n",
    "#df.dtypes\n",
    "#df.columns = ['sepal_length','sepal_width','petal_length','petal_width']（改欄位名）\n",
    "#df.sort_values(by='sepal_length', ascending=False)（排序）\n",
    "#ascending=FALSE 從大排到小，反之從小排到大\n",
    "\n",
    "#### Selection(pd取值)\n",
    "#df['sepal_length'].head(9)\n",
    "#df[0:3]（3rows）\n",
    "## Selection by Label\n",
    "#df.loc[:,['sepal_length','sepal_width']].head(5)（取雙欄位）\n",
    "## Selection by Position\n",
    "#df.iloc[1:10,0:2] [列,行]（取列，取行）\n",
    "\n",
    "#Filling missing data\n",
    "#df.dropna(how='any')\n",
    "#df1.fillna(value=5)\n",
    "\n",
    "### Merge\n",
    "#xx = x + y\n",
    "#xx_pd=pd.DataFrame(xx)\n",
    "#pd.concat([xx_pd,xx_pd],axis=1) #行合併\n",
    "#pd.concat([xx_pd,xx_pd],axis=0) #列合併\n",
    "\n",
    "#df.drop(df.index[[0,1]])\n",
    "\n",
    "pd.scatter_matrix(df, c = y, figsize=[8,8],\n",
    "                      s=150, marker='D')"
   ]
  },
  {
   "cell_type": "code",
   "execution_count": null,
   "metadata": {
    "collapsed": true
   },
   "outputs": [],
   "source": []
  }
 ],
 "metadata": {
  "kernelspec": {
   "display_name": "Python 3",
   "language": "python",
   "name": "python3"
  },
  "language_info": {
   "codemirror_mode": {
    "name": "ipython",
    "version": 3
   },
   "file_extension": ".py",
   "mimetype": "text/x-python",
   "name": "python",
   "nbconvert_exporter": "python",
   "pygments_lexer": "ipython3",
   "version": "3.6.0"
  }
 },
 "nbformat": 4,
 "nbformat_minor": 2
}
